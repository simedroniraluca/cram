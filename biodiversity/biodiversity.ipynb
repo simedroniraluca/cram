{
 "cells": [
  {
   "cell_type": "markdown",
   "metadata": {},
   "source": [
    "# 1. Introduction\n",
    "## 1.1 Scoping\n",
    "This project is meant to help the **National Park Service** to ensure the survival of at-risk species and to maintain the level of biodiversity within their parks. Therefore, the main objectives will be understanding the characteristics of the species and their conservation status. Some questions that are posed:\n",
    "   - Which is the most endangered category of species?\n",
    "   - Which is the most endangered specie?\n",
    "   - Where can we find the most endangered specie?\n",
    "   - Which park has the most significant number of observations?\n",
    "   \n",
    "## 1.2 Project descripiton\n",
    "**Section 2** of this project presents data wrangling and tidying. This process leads to three data sets:\n",
    "   - The `obs` data set includes the next information:\n",
    "     - **scientific_name** - The scientific name of each species\n",
    "     - **park_name** - The name of the national park\n",
    "     - **observations** - The number of observations in the past 7 days\n",
    "   - The `speciesInfo` data set includes the next information:\n",
    "     - **scientific_name** - The scientific name of each species\n",
    "     - **park_name** - The name of the national park\n",
    "     - **observations** - The number of observations in the past 7 days\n",
    "   - The `speciesObs` data set that contains all the information above.\n",
    " \n",
    "**Section 3** presents the methods, the analyses, and the answers to the questions found in the **Scoping** subsection of the **Introduction** section by analyzing the conservation status of different species categories, the endangered species, the national parks where the observations of these species were conducted. The final section draws some **Conclusions**. "
   ]
  },
  {
   "cell_type": "markdown",
   "metadata": {},
   "source": [
    "# 2. Data\n",
    "The information analyzed in this report is taken from two CSV files provided by [Codecademy.com](https://www.codecademy.com) learning platform:\n",
    "\n",
    "   -   `species_info.csv` - contains data about different species and their conservation status\n",
    "   -   `observations.csv` - holds recorded sightings of different species at several national parks for the past 7 days.\n",
    "\n",
    "The columns in the `species info` data set include:\n",
    "   - **category** - The category of taxonomy for each species\n",
    "   - **scientific_name** - The scientific name of each species\n",
    "   - **common_names** - The common names of each species\n",
    "   - **conservation_status** - The species conservation status\n",
    "\n",
    "The columns in the `observations` data set include:\n",
    "   - **scientific_name** - The scientific name of each species\n",
    "   - **park_name** - The name of the national park\n",
    "   - **observations** - The number of observations in the past 7 days\n",
    "\n",
    "The process of data wrangling is used to obtain a tidy dataset in order to prepare the data for gaining any useful insights. In this process, duplicates and missing values are identified and some data frame reshaping is needed.\n",
    "The obtained tidy dataset has no duplicates but has 96.72% missing values in the `conservation status` variable. These missing values are too many to proceed a listwise or pairwise deletion and the variable contains important information, so we can not delete the entire variable either. As the missing data percent in the `conservation status` variable is approximatively 97% and the values of this variable can be `nan, 'Species of Concern', 'Threatened', 'Endangered', 'In Recovery'`, we can consider that `nan` could mean that the species are not in danger, so we can fill nan values with a `'Safe'` label. There are 5541 species in the dataset that are part of 7 categories. These species live in 4 national parks - `'Great Smoky Mountains National Park', 'Yosemite National Park', 'Yellowstone National Park', 'Bryce National Park'`."
   ]
  },
  {
   "cell_type": "code",
   "execution_count": 115,
   "metadata": {},
   "outputs": [],
   "source": [
    "import pandas as pd\n",
    "import seaborn as sns\n",
    "import matplotlib.pylab as plt\n",
    "import string"
   ]
  },
  {
   "cell_type": "code",
   "execution_count": 116,
   "metadata": {},
   "outputs": [],
   "source": [
    "# Data loading\n",
    "obs = pd.read_csv('observations.csv')\n",
    "speciesInfo = pd.read_csv('species_info.csv')"
   ]
  },
  {
   "cell_type": "code",
   "execution_count": 117,
   "metadata": {},
   "outputs": [
    {
     "name": "stdout",
     "output_type": "stream",
     "text": [
      "Species research: \n",
      "  category                scientific_name  \\\n",
      "0   Mammal  Clethrionomys gapperi gapperi   \n",
      "1   Mammal                      Bos bison   \n",
      "2   Mammal                     Bos taurus   \n",
      "3   Mammal                     Ovis aries   \n",
      "4   Mammal                 Cervus elaphus   \n",
      "\n",
      "                                        common_names conservation_status  \n",
      "0                           Gapper's Red-Backed Vole                 NaN  \n",
      "1                              American Bison, Bison                 NaN  \n",
      "2  Aurochs, Aurochs, Domestic Cattle (Feral), Dom...                 NaN  \n",
      "3  Domestic Sheep, Mouflon, Red Sheep, Sheep (Feral)                 NaN  \n",
      "4                                      Wapiti Or Elk                 NaN  \n",
      "Data shape: \n",
      "(5824, 4)\n",
      "Number of duplicates: \n",
      "0\n",
      "Data info: \n",
      "<class 'pandas.core.frame.DataFrame'>\n",
      "RangeIndex: 5824 entries, 0 to 5823\n",
      "Data columns (total 4 columns):\n",
      " #   Column               Non-Null Count  Dtype \n",
      "---  ------               --------------  ----- \n",
      " 0   category             5824 non-null   object\n",
      " 1   scientific_name      5824 non-null   object\n",
      " 2   common_names         5824 non-null   object\n",
      " 3   conservation_status  191 non-null    object\n",
      "dtypes: object(4)\n",
      "memory usage: 182.1+ KB\n",
      "None\n",
      "Unique values: \n",
      "category                  7\n",
      "scientific_name        5541\n",
      "common_names           5504\n",
      "conservation_status       4\n",
      "dtype: int64\n",
      "Percentage of missing conservation status data: \n",
      "96.72046703296702%\n",
      "Conservation status types: [nan 'Species of Concern' 'Endangered' 'Threatened' 'In Recovery']\n",
      "Conservation status types - after filling the missing values: ['Safe' 'Species of Concern' 'Endangered' 'Threatened' 'In Recovery']\n",
      "Data info - after filling the missing values: \n",
      "<class 'pandas.core.frame.DataFrame'>\n",
      "RangeIndex: 5824 entries, 0 to 5823\n",
      "Data columns (total 4 columns):\n",
      " #   Column               Non-Null Count  Dtype \n",
      "---  ------               --------------  ----- \n",
      " 0   category             5824 non-null   object\n",
      " 1   scientific_name      5824 non-null   object\n",
      " 2   common_names         5824 non-null   object\n",
      " 3   conservation_status  5824 non-null   object\n",
      "dtypes: object(4)\n",
      "memory usage: 182.1+ KB\n",
      "None\n"
     ]
    }
   ],
   "source": [
    "print(\"Species research: \")\n",
    "print(speciesInfo.head())\n",
    "print(\"Data shape: \")\n",
    "print(speciesInfo.shape)\n",
    "print(\"Number of duplicates: \")\n",
    "print(speciesInfo.duplicated().sum())\n",
    "print(\"Data info: \")\n",
    "print(speciesInfo.info())\n",
    "print(\"Unique values: \")\n",
    "print(speciesInfo.nunique())\n",
    "print(\"Percentage of missing conservation status data: \")\n",
    "print(f\"{speciesInfo.conservation_status.isna().sum()/speciesInfo.shape[0]*100}%\")\n",
    "print(f\"Conservation status types: {speciesInfo.conservation_status.unique()}\")\n",
    "speciesInfo.conservation_status.fillna(\"Safe\", inplace=True)\n",
    "print(f\"Conservation status types - after filling the missing values: {speciesInfo.conservation_status.unique()}\")\n",
    "print(\"Data info - after filling the missing values: \")\n",
    "print(speciesInfo.info())\n",
    "\n",
    "# Delete duplicates names in common_names column\n",
    "\n",
    "# def remove_punctuations(text):\n",
    "#     for punctuation in string.punctuation:\n",
    "#         text = text.replace(punctuation, '')\n",
    "#     return text\n",
    "\n",
    "# commonNames = species_info.common_names\\\n",
    "#     .apply(remove_punctuations)\\\n",
    "#     .str.split().apply(lambda x: list(set(x)))\n",
    "    \n",
    "# print(commonNames)"
   ]
  },
  {
   "cell_type": "code",
   "execution_count": 118,
   "metadata": {},
   "outputs": [
    {
     "name": "stdout",
     "output_type": "stream",
     "text": [
      "Observations research: \n",
      "            scientific_name                            park_name  observations\n",
      "0        Vicia benghalensis  Great Smoky Mountains National Park            68\n",
      "1            Neovison vison  Great Smoky Mountains National Park            77\n",
      "2         Prunus subcordata               Yosemite National Park           138\n",
      "3      Abutilon theophrasti                  Bryce National Park            84\n",
      "4  Githopsis specularioides  Great Smoky Mountains National Park            85\n",
      "Data shape: \n",
      "(23296, 3)\n",
      "Number of duplicates: \n",
      "15\n",
      "Data shape - without duplicates\n",
      "(23281, 3)\n",
      "Data info: \n",
      "<class 'pandas.core.frame.DataFrame'>\n",
      "Int64Index: 23281 entries, 0 to 23295\n",
      "Data columns (total 3 columns):\n",
      " #   Column           Non-Null Count  Dtype \n",
      "---  ------           --------------  ----- \n",
      " 0   scientific_name  23281 non-null  object\n",
      " 1   park_name        23281 non-null  object\n",
      " 2   observations     23281 non-null  int64 \n",
      "dtypes: int64(1), object(2)\n",
      "memory usage: 727.5+ KB\n",
      "None\n",
      "Unique values: \n",
      "scientific_name    5541\n",
      "park_name             4\n",
      "observations        304\n",
      "dtype: int64\n"
     ]
    }
   ],
   "source": [
    "print(\"Observations research: \")\n",
    "print(obs.head())\n",
    "print(\"Data shape: \")\n",
    "print(obs.shape)\n",
    "print(\"Number of duplicates: \")\n",
    "print(obs.duplicated().sum())\n",
    "obs = obs.drop_duplicates()\n",
    "print(\"Data shape - without duplicates\")\n",
    "print(obs.shape)\n",
    "print(\"Data info: \")\n",
    "print(obs.info())\n",
    "print(\"Unique values: \")\n",
    "print(obs.nunique())"
   ]
  },
  {
   "cell_type": "code",
   "execution_count": 119,
   "metadata": {},
   "outputs": [
    {
     "name": "stdout",
     "output_type": "stream",
     "text": [
      "Joint data research: \n",
      "      scientific_name                            park_name  observations  \\\n",
      "0  Vicia benghalensis  Great Smoky Mountains National Park            68   \n",
      "1  Vicia benghalensis               Yosemite National Park           148   \n",
      "2  Vicia benghalensis            Yellowstone National Park           247   \n",
      "3  Vicia benghalensis                  Bryce National Park           104   \n",
      "4      Neovison vison  Great Smoky Mountains National Park            77   \n",
      "\n",
      "         category                        common_names conservation_status  \n",
      "0  Vascular Plant  Purple Vetch, Reddish Tufted Vetch                Safe  \n",
      "1  Vascular Plant  Purple Vetch, Reddish Tufted Vetch                Safe  \n",
      "2  Vascular Plant  Purple Vetch, Reddish Tufted Vetch                Safe  \n",
      "3  Vascular Plant  Purple Vetch, Reddish Tufted Vetch                Safe  \n",
      "4          Mammal                       American Mink                Safe  \n",
      "Data shape: \n",
      "(25601, 6)\n",
      "Number of duplicates: \n",
      "0\n",
      "Data shape - without duplicates\n",
      "(25601, 6)\n",
      "Data info: \n",
      "<class 'pandas.core.frame.DataFrame'>\n",
      "Int64Index: 25601 entries, 0 to 25600\n",
      "Data columns (total 6 columns):\n",
      " #   Column               Non-Null Count  Dtype \n",
      "---  ------               --------------  ----- \n",
      " 0   scientific_name      25601 non-null  object\n",
      " 1   park_name            25601 non-null  object\n",
      " 2   observations         25601 non-null  int64 \n",
      " 3   category             25601 non-null  object\n",
      " 4   common_names         25601 non-null  object\n",
      " 5   conservation_status  25601 non-null  object\n",
      "dtypes: int64(1), object(5)\n",
      "memory usage: 1.4+ MB\n",
      "None\n",
      "Unique values: \n",
      "scientific_name        5541\n",
      "park_name                 4\n",
      "observations            304\n",
      "category                  7\n",
      "common_names           5504\n",
      "conservation_status       5\n",
      "dtype: int64\n"
     ]
    }
   ],
   "source": [
    "speciesObs = pd.merge(obs, speciesInfo, how=\"outer\", on=[\"scientific_name\"])\n",
    "print(\"Joint data research: \")\n",
    "print(speciesObs.head())\n",
    "print(\"Data shape: \")\n",
    "print(speciesObs.shape)\n",
    "print(\"Number of duplicates: \")\n",
    "print(speciesObs.duplicated().sum())\n",
    "speciesObs = speciesObs.drop_duplicates()\n",
    "print(\"Data shape - without duplicates\")\n",
    "print(speciesObs.shape)\n",
    "print(\"Data info: \")\n",
    "print(speciesObs.info())\n",
    "print(\"Unique values: \")\n",
    "print(speciesObs.nunique())"
   ]
  },
  {
   "cell_type": "code",
   "execution_count": 120,
   "metadata": {},
   "outputs": [
    {
     "name": "stdout",
     "output_type": "stream",
     "text": [
      "National parks: ['Great Smoky Mountains National Park' 'Yosemite National Park'\n",
      " 'Yellowstone National Park' 'Bryce National Park']\n",
      "Categories: ['Vascular Plant' 'Mammal' 'Bird' 'Nonvascular Plant' 'Amphibian'\n",
      " 'Reptile' 'Fish']\n",
      "Conservation status types: ['Safe' 'Species of Concern' 'Threatened' 'Endangered' 'In Recovery']\n"
     ]
    }
   ],
   "source": [
    "print(f\"National parks: {speciesObs.park_name.unique()}\")\n",
    "print(f\"Categories: {speciesObs.category.unique()}\")\n",
    "print(f\"Conservation status types: {speciesObs.conservation_status.unique()}\")"
   ]
  },
  {
   "cell_type": "code",
   "execution_count": 121,
   "metadata": {},
   "outputs": [
    {
     "name": "stdout",
     "output_type": "stream",
     "text": [
      "number of species:5541\n"
     ]
    }
   ],
   "source": [
    "print(f\"number of species:{speciesObs.scientific_name.nunique()}\")"
   ]
  },
  {
   "cell_type": "markdown",
   "metadata": {},
   "source": [
    "# 3. Methods and Analysis\n",
    "## 3.1 Conservation status of different species categories\n",
    "### 3.1.1 Description\n",
    "There are 5 types of the `conservation status` variable -  `'Safe', 'Species of Concern', 'Threatened', 'Endangered', 'In Recovery'` - and 7 `species categories` - `'Vascular Plant', 'Mammal', 'Bird', 'Nonvascular Plant', 'Amphibian', 'Reptile', 'Fish'`. The biggest number of endangered species are part of the `Mammal` and `Bird`  categories. There are 7 endangered `Mammal`  species and 4 endangered `Bird` species out of a total of 16 endangered species. Both `Bird` and `Mammal`  categories include species that represent a serious concern. There are 72 `Bird` species and 28 `Mammal` species out of a total of 161 species of concern. But there are 3 `Bird` species and 1 `Mammal` specie in recovery out of a total of 4. We can say that there are more `Mammal` endangered species and there are more `Bird` species of concern, but some `Birds` species recover faster than `Mammal` ones. "
   ]
  },
  {
   "cell_type": "markdown",
   "metadata": {},
   "source": [
    "### 3.1.2 Methods"
   ]
  },
  {
   "cell_type": "code",
   "execution_count": 122,
   "metadata": {},
   "outputs": [
    {
     "name": "stdout",
     "output_type": "stream",
     "text": [
      "Index(['Amphibian', 'Bird', 'Fish', 'Mammal', 'Nonvascular Plant', 'Reptile',\n",
      "       'Vascular Plant'],\n",
      "      dtype='object', name='category')\n",
      "--------------------------------------------------------------------------------\n",
      "category             Amphibian  Bird  Fish  Mammal  Nonvascular Plant  \\\n",
      "conservation_status                                                     \n",
      "Endangered                 1.0   4.0   3.0     7.0                NaN   \n",
      "In Recovery                NaN   3.0   NaN     1.0                NaN   \n",
      "Species of Concern         4.0  72.0   4.0    28.0                5.0   \n",
      "Threatened                 2.0   NaN   4.0     2.0                NaN   \n",
      "\n",
      "category             Reptile  Vascular Plant  \n",
      "conservation_status                           \n",
      "Endangered               NaN             1.0  \n",
      "In Recovery              NaN             NaN  \n",
      "Species of Concern       5.0            43.0  \n",
      "Threatened               NaN             2.0  \n"
     ]
    },
    {
     "data": {
      "image/png": "[encoded data removed]",
      "text/plain": [
       "<Figure size 640x480 with 1 Axes>"
      ]
     },
     "metadata": {},
     "output_type": "display_data"
    },
    {
     "name": "stdout",
     "output_type": "stream",
     "text": [
      "Total number of different categories per conservation status: \n",
      "conservation_status\n",
      "Endangered             16.0\n",
      "In Recovery             4.0\n",
      "Species of Concern    161.0\n",
      "Threatened             10.0\n",
      "dtype: float64\n"
     ]
    },
    {
     "data": {
      "text/plain": [
       "<Figure size 640x480 with 0 Axes>"
      ]
     },
     "metadata": {},
     "output_type": "display_data"
    }
   ],
   "source": [
    "conservationCategory = speciesInfo[speciesInfo.conservation_status != \"Safe\"]\\\n",
    "    .groupby([\"conservation_status\", \"category\"])['scientific_name']\\\n",
    "    .count()\\\n",
    "    .unstack()  \n",
    "print(conservationCategory.columns)\n",
    "print(\"-\"*80)\n",
    "print(conservationCategory)\n",
    "conservationCategory.plot(kind='bar')\n",
    "plt.legend(loc='upper right', bbox_to_anchor=(1.4, 1))\n",
    "plt.show()\n",
    "plt.clf()\n",
    "print(\"Total number of different categories per conservation status: \")\n",
    "print(conservationCategory.sum(axis=1))"
   ]
  },
  {
   "cell_type": "markdown",
   "metadata": {},
   "source": [
    "## 3.2  Endangered species\n",
    "### 3.2.1 Description\n",
    "The percentage of endangered species that are part of the `mammal` category is 43.75% of the total endangered species. The most endangered specie that is part of this category is Canis lupus which represents 12.5% of the total endangered species. For seven days of observation, the biggest number of Canis Lupus, 660 specimens were found in Yellowstone National Park. \n",
    "### 3.2.2 Methods"
   ]
  },
  {
   "cell_type": "code",
   "execution_count": 123,
   "metadata": {},
   "outputs": [
    {
     "name": "stdout",
     "output_type": "stream",
     "text": [
      "            category               scientific_name  \\\n",
      "8             Mammal                   Canis lupus   \n",
      "9             Mammal                   Canis rufus   \n",
      "34            Mammal             Myotis grisescens   \n",
      "39            Mammal                Myotis sodalis   \n",
      "72            Mammal  Glaucomys sabrinus coloratus   \n",
      "173             Bird                Grus americana   \n",
      "276             Bird           Vermivora bachmanii   \n",
      "343             Bird             Picoides borealis   \n",
      "540             Fish          Etheostoma percnurum   \n",
      "570             Fish               Noturus baileyi   \n",
      "2497  Vascular Plant                 Geum radiatum   \n",
      "3275            Fish             Chasmistes liorus   \n",
      "4446          Mammal       Ovis canadensis sierrae   \n",
      "4448          Mammal                   Canis lupus   \n",
      "4505            Bird       Gymnogyps californianus   \n",
      "4601       Amphibian                  Rana sierrae   \n",
      "\n",
      "                                           common_names conservation_status  \n",
      "8                                             Gray Wolf          Endangered  \n",
      "9                                              Red Wolf          Endangered  \n",
      "34                                          Gray Myotis          Endangered  \n",
      "39                Indiana Bat, Indiana Or Social Myotis          Endangered  \n",
      "72    Carolina Northern Flying Squirrel, Northern Fl...          Endangered  \n",
      "173                                      Whooping Crane          Endangered  \n",
      "276           Bachman's Warbler, Bachman's Wood Warbler          Endangered  \n",
      "343                             Red-Cockaded Woodpecker          Endangered  \n",
      "540                                    Duskytail Darter          Endangered  \n",
      "570                                        Smoky Madtom          Endangered  \n",
      "2497                    Mountain Avens, Spreading Avens          Endangered  \n",
      "3275                                        June Sucker          Endangered  \n",
      "4446                        Sierra Nevada Bighorn Sheep          Endangered  \n",
      "4448                                    Gray Wolf, Wolf          Endangered  \n",
      "4505                                  California Condor          Endangered  \n",
      "4601                   Sierra Nevada Yellow-Legged Frog          Endangered  \n",
      "--------------------------------------------------------------------------------\n",
      "category                      Amphibian  Bird  Fish  Mammal  Vascular Plant\n",
      "scientific_name                                                            \n",
      "Canis lupus                         NaN   NaN   NaN     2.0             NaN\n",
      "Canis rufus                         NaN   NaN   NaN     1.0             NaN\n",
      "Chasmistes liorus                   NaN   NaN   1.0     NaN             NaN\n",
      "Etheostoma percnurum                NaN   NaN   1.0     NaN             NaN\n",
      "Geum radiatum                       NaN   NaN   NaN     NaN             1.0\n",
      "Glaucomys sabrinus coloratus        NaN   NaN   NaN     1.0             NaN\n",
      "Grus americana                      NaN   1.0   NaN     NaN             NaN\n",
      "Gymnogyps californianus             NaN   1.0   NaN     NaN             NaN\n",
      "Myotis grisescens                   NaN   NaN   NaN     1.0             NaN\n",
      "Myotis sodalis                      NaN   NaN   NaN     1.0             NaN\n",
      "Noturus baileyi                     NaN   NaN   1.0     NaN             NaN\n",
      "Ovis canadensis sierrae             NaN   NaN   NaN     1.0             NaN\n",
      "Picoides borealis                   NaN   1.0   NaN     NaN             NaN\n",
      "Rana sierrae                        1.0   NaN   NaN     NaN             NaN\n",
      "Vermivora bachmanii                 NaN   1.0   NaN     NaN             NaN\n",
      "--------------------------------------------------------------------------------\n",
      "Total number of different species per category:  \n",
      "category\n",
      "Amphibian         1.0\n",
      "Bird              4.0\n",
      "Fish              3.0\n",
      "Mammal            7.0\n",
      "Vascular Plant    1.0\n",
      "dtype: float64\n",
      "--------------------------------------------------------------------------------\n",
      "Total endangered species: 16.0\n",
      "--------------------------------------------------------------------------------\n",
      "The percentage of endangered species that are part of the `mammal` category:43.75%\n",
      "--------------------------------------------------------------------------------\n",
      "The percentage of endangered Canis lupus:12.5%\n"
     ]
    }
   ],
   "source": [
    "endangered = speciesInfo[speciesInfo.conservation_status == \"Endangered\"]\n",
    "print(endangered)\n",
    "print(\"-\"*80)\n",
    "endangeredSpecies = endangered\\\n",
    "    .groupby([\"scientific_name\", \"category\"])['scientific_name']\\\n",
    "    .count()\\\n",
    "    .unstack()\n",
    "print(endangeredSpecies)\n",
    "print(\"-\"*80)\n",
    "print(\"Total number of different species per category:  \")\n",
    "print(endangeredSpecies.sum())\n",
    "print(\"-\"*80)\n",
    "print(f\"Total endangered species: {endangeredSpecies.sum().sum()}\")\n",
    "print(\"-\"*80)\n",
    "endangered_mammals = (endangeredSpecies.sum()[\"Mammal\"])/(endangeredSpecies.sum().sum()) * 100\n",
    "print(f\"The percentage of endangered species that are part of the `mammal` category:{endangered_mammals}%\")\n",
    "print(\"-\"*80)\n",
    "endangered_canis_lupus = (endangeredSpecies.Mammal[endangeredSpecies.index == \"Canis lupus\"])/(endangeredSpecies.sum().sum()) * 100\n",
    "print(f\"The percentage of endangered Canis lupus:{endangered_canis_lupus[0]}%\")"
   ]
  },
  {
   "cell_type": "code",
   "execution_count": 124,
   "metadata": {},
   "outputs": [
    {
     "name": "stdout",
     "output_type": "stream",
     "text": [
      "scientific_name  park_name                          \n",
      "Canis lupus      Bryce National Park                    260\n",
      "                 Great Smoky Mountains National Park    118\n",
      "                 Yellowstone National Park              660\n",
      "                 Yosemite National Park                 392\n",
      "dtype: int64\n"
     ]
    },
    {
     "data": {
      "image/png": "[encoded data removed]",
      "text/plain": [
       "<Figure size 640x480 with 1 Axes>"
      ]
     },
     "metadata": {},
     "output_type": "display_data"
    },
    {
     "data": {
      "text/plain": [
       "<Figure size 640x480 with 0 Axes>"
      ]
     },
     "metadata": {},
     "output_type": "display_data"
    }
   ],
   "source": [
    "canisLupus = speciesObs[(speciesObs.scientific_name == \"Canis lupus\") & (speciesObs.conservation_status == \"Endangered\")]\\\n",
    "    .groupby([\"scientific_name\", \"park_name\"])['observations']\\\n",
    "    .sum()\\\n",
    "    .unstack()\n",
    "print(canisLupus.stack())\n",
    "canisLupus.plot(kind=\"bar\")\n",
    "plt.legend(loc='upper right', bbox_to_anchor=(1.7, 1))\n",
    "plt.show()\n",
    "plt.clf()"
   ]
  },
  {
   "cell_type": "markdown",
   "metadata": {},
   "source": [
    "## 3.3 National parks\n",
    "### 3.3.1 Description\n",
    "A total number of 102921 observations that live in 4 national parks were recorded for 7 days. These observations are classified as being part of a specific category such as:\n",
    "   -   Species of Concern: declining or appear to need conservation\n",
    "   - Threatened: vulnerable to endangerment soon\n",
    "   - Endangered: seriously at risk of extinction\n",
    "   - In Recovery: formerly Endangered, but currently neither in danger of extinction throughout all or a significant portion of its range\n",
    "\n",
    "Yellowstone National Park has the greatest number of observed species of each category and a total percentage of 43.32%."
   ]
  },
  {
   "cell_type": "markdown",
   "metadata": {},
   "source": [
    "### 3.3.2 Methods"
   ]
  },
  {
   "cell_type": "code",
   "execution_count": 125,
   "metadata": {},
   "outputs": [
    {
     "name": "stdout",
     "output_type": "stream",
     "text": [
      "conservation_status                  Endangered  In Recovery  \\\n",
      "park_name                                                      \n",
      "Bryce National Park                         619          388   \n",
      "Great Smoky Mountains National Park         393          248   \n",
      "Yellowstone National Park                  1558          889   \n",
      "Yosemite National Park                      943          582   \n",
      "\n",
      "conservation_status                  Species of Concern  Threatened  \n",
      "park_name                                                            \n",
      "Bryce National Park                               17011         591  \n",
      "Great Smoky Mountains National Park               11735         440  \n",
      "Yellowstone National Park                         40677        1459  \n",
      "Yosemite National Park                            24539         849  \n"
     ]
    },
    {
     "data": {
      "image/png": "[encoded data removed]",
      "text/plain": [
       "<Figure size 640x480 with 1 Axes>"
      ]
     },
     "metadata": {},
     "output_type": "display_data"
    },
    {
     "name": "stdout",
     "output_type": "stream",
     "text": [
      "The total observations per national park that were recorded in those 7 days: \n",
      "park_name\n",
      "Bryce National Park                    18609\n",
      "Great Smoky Mountains National Park    12816\n",
      "Yellowstone National Park              44583\n",
      "Yosemite National Park                 26913\n",
      "dtype: int64\n",
      "The total observations that were recorded in those 7 days:  102921\n",
      "The percentage of observations recorded in each national park through those 7 days: \n",
      "park_name\n",
      "Bryce National Park                    18.080858\n",
      "Great Smoky Mountains National Park    12.452269\n",
      "Yellowstone National Park              43.317690\n",
      "Yosemite National Park                 26.149182\n",
      "dtype: float64\n"
     ]
    },
    {
     "data": {
      "text/plain": [
       "<Figure size 640x480 with 0 Axes>"
      ]
     },
     "metadata": {},
     "output_type": "display_data"
    }
   ],
   "source": [
    "parksObs = speciesObs[speciesObs.conservation_status != \"Safe\"]\\\n",
    "    .groupby([\"park_name\", \"conservation_status\"])[\"observations\"]\\\n",
    "    .sum()\\\n",
    "    .unstack()\n",
    "print(parksObs)\n",
    "parksObs.plot(kind=\"bar\", stacked=True)\n",
    "plt.legend(loc='upper right', bbox_to_anchor=(1.4, 1))\n",
    "plt.show()\n",
    "plt.clf()\n",
    "print(\"The total observations per national park that were recorded in those 7 days: \")\n",
    "print(parksObs.sum(axis=1))\n",
    "print(f\"The total observations that were recorded in those 7 days:  {parksObs.sum(axis=1).sum()}\")\n",
    "print(\"The percentage of observations recorded in each national park through those 7 days: \")\n",
    "print(parksObs.sum(axis=1) / parksObs.sum(axis=1).sum() * 100)"
   ]
  },
  {
   "cell_type": "markdown",
   "metadata": {},
   "source": [
    "# 4. Conclusions\n",
    "\n",
    "There are 5 types of the conservation status variable - 'Safe', 'Species of Concern', 'Threatened', 'Endangered', 'In Recovery' - and 7 species categories - 'Vascular Plant', 'Mammal', 'Bird', 'Nonvascular Plant', 'Amphibian', 'Reptile', 'Fish'. \n",
    "\n",
    "A total number of 102921 observations that live in 4 national parks - 'Great Smoky Mountains National Park', 'Yosemite National Park', 'Yellowstone National Park', 'Bryce National Park' - were recorded for 7 days. These observations are classified as being part of a specific category such as:\n",
    "\n",
    "   - Species of Concern: declining or appear to need conservation\n",
    "   - Threatened: vulnerable to endangerment soon\n",
    "   - Endangered: seriously at risk of extinction\n",
    "   - In Recovery: formerly Endangered, but currently neither in danger of extinction throughout all or a significant portion of its range\n",
    "\n",
    "Yellowstone National Park has the greatest number of observed species of each category and a total percentage of 43.32%.\n",
    "\n",
    "\n",
    "The biggest number of endangered species are part of the Mammal and Bird categories. There are 7 endangered Mammal species and 4 endangered Bird species out of a total of 16 endangered species. Both Bird and Mammal categories include species that represent a serious concern. There are 72 Bird species and 28 Mammal species out of a total of 161 species of concern. But there are 3 Bird species and 1 Mammal specie in recovery out of a total of 4. We can say that there are more Mammal endangered species and there are more Bird species of concern, but some Birds species recover faster than Mammal ones.\n",
    "\n",
    "The percentage of endangered species that are part of the mammal category is 43.75% of the total endangered species. The most endangered specie that is part of this category is Canis lupus which represents 12.5% of the total endangered species. For seven days of observation, the biggest number of Canis Lupus, 660 specimens were found in Yellowstone National Park.\n",
    "\n",
    "\n",
    "So, if you want to study Canis lupus, the most endangered specie found in the four presented national parks, go to Yellowstone National Park, where the probability to find some observations of this kind is higher."
   ]
  }
 ],
 "metadata": {
  "kernelspec": {
   "display_name": "biodiversity_venv",
   "language": "python",
   "name": "biodiversity_venv"
  },
  "language_info": {
   "codemirror_mode": {
    "name": "ipython",
    "version": 3
   },
   "file_extension": ".py",
   "mimetype": "text/x-python",
   "name": "python",
   "nbconvert_exporter": "python",
   "pygments_lexer": "ipython3",
   "version": "3.10.4"
  },
  "vscode": {
   "interpreter": {
    "hash": "8512838f17de210608577b97db817fd6d4036af63777317b792c58baf15998c2"
   }
  }
 },
 "nbformat": 4,
 "nbformat_minor": 4
}
